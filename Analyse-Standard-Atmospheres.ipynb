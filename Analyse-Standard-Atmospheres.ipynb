{
 "cells": [
  {
   "cell_type": "raw",
   "metadata": {},
   "source": [
    "\\documentclass{workpackage}\n",
    "\n",
    "% input the common preamble content (required by the ipnb2latex converter)\n",
    "\\input{header.tex}\n",
    "\n",
    "\\usepackage{hyperref}\n",
    "\n",
    "% then follows the rest of the preamble to be placed before the begin document\n",
    "% this preamble content is special to the documentclass you defined above.\n",
    "\n",
    "\\DocProductName{ISP}\n",
    "\\DocDescription{Standard Atmospheres}\n",
    "\\DocClassification{Unclassified}\n",
    "\\DocDate{\\today}\n",
    "\\DocAuthorName{CJ Willers}\n",
    "\\DocApprovalOneName{}\n",
    "\\DocCompanyLogo{}\n",
    "\\DocCompanyName{}\n",
    "\\DocFilename{}\n",
    "\\DocNumber{}\n",
    "\\DocVersion{}\n",
    "\\DocECN{}\n",
    "\\DocMecNo{}\n",
    "\\DocTypist{}\n",
    "\\DocFileSize{}\n",
    "\\DocApplication{}\n",
    "\\DocEffecticeDate{\\today}\n",
    "\\DocApprovalOneDate{}\n",
    "\\DocSubsystem{}\n",
    "\\DocProject{}\n",
    "\\DocKeywords{}\n",
    "\\newlength{\\savedparskip}\n",
    "\\DocConclusions{\n",
    "\\setlength{\\savedparskip}{\\parskip}\n",
    "\\setlength{\\parskip}{0.ex plus 0.1ex minus 0.3ex}\n",
    "This work package describes sets of standard atmospheres covering moderate extreme conditions, are used in OSSIM and are used in Moticia.\n",
    "\n",
    "\\setlength{\\parskip}{\\savedparskip}\n",
    "}\n",
    "\\DocDistribution{}\n",
    "\n",
    "%and finally the document begin.\n",
    "\\begin{document}\n",
    "\\WPCoverPage\n",
    "\\tableofcontents"
   ]
  },
  {
   "cell_type": "markdown",
   "metadata": {},
   "source": [
    "# Standard Atmospheres"
   ]
  },
  {
   "cell_type": "markdown",
   "metadata": {},
   "source": [
    "A number of 'standard' atmospheres were defined to cover the expected range of climatic conditions to be used in design analyses and optimisations.  This document defines and analyses the Modtran-calculated transmittance data.  Modtran 5.0 was used in these calculations."
   ]
  },
  {
   "cell_type": "markdown",
   "metadata": {},
   "source": [
    "## Introduction"
   ]
  },
  {
   "cell_type": "markdown",
   "metadata": {},
   "source": [
    "The ground height for all atmospheric models is at sea level. \n",
    "\n",
    "The paths were calculated from the stated altitude at a slant angle of 45 deg down to earth (zenith angle of 135 degrees), but then normalised to a 1 km path length (irrespective of the actual path length).  This normalised path length is then later used to calculate the transmittance along the actual path length.\n",
    "\n",
    "Within the constraints of a few assumptions, the transmittance for a path at a slant angle of -45 degrees can be used to calculate the transmittance at any other downward slant path angle.  These constraints are   \n",
    " 1. The new path starts at the same altitude for which the original data was calculated.      \n",
    " 2. The earth is flat, and hence the curvature of atmospheric profiles are ignored.    \n",
    " 3. The path length is adapted to account for the different path length at a different slant angle.  \n",
    " 4. The path intersects the ground, even if at infinity for slant angles minutely below the horizontal.\n"
   ]
  },
  {
   "cell_type": "markdown",
   "metadata": {},
   "source": [
    "## Data formats"
   ]
  },
  {
   "cell_type": "markdown",
   "metadata": {},
   "source": [
    "The path definitions and data are stored in the TAPM Stash repository at  \n",
    "`TBC`\n",
    "\n",
    "The following data files are available:\n",
    "\n",
    "__./scenario/alt/scenario-altm.1km__   \n",
    "Atmo transmittance normalised to 1 km path length, irrespective of actual path length.\n",
    "Space delimited text file, col0=wavelength in um, col1=transmittance\n",
    "First line describes the file scenario and altitude. \n",
    "These files conform to the NV-IPM vector file format.\n",
    "\n",
    "__./scenario/scenario.png__  \n",
    "A plot of normalised transmittance values for all altitudes.\n",
    "\n",
    "__./AllScen-altm.png__  \n",
    "A plot of normalised transmittance values for all scenarios at the stated altitude.\n",
    "\n",
    "__./scenario/scenario.xlsx__  \n",
    "An Excel spreadsheet of normalised transmittance values for all altitudes for stated scenario."
   ]
  },
  {
   "cell_type": "markdown",
   "metadata": {},
   "source": [
    "## Atmosphere Scenarios"
   ]
  },
  {
   "cell_type": "markdown",
   "metadata": {},
   "source": [
    "### ExtremeHotLowHumidity\n",
    "__very hot, low humidity, 75 km Desert visibility - no wind, clear day in the desert__  \n",
    "User model (36 layers), 70 km visibility  Desert aerosol, ground level P=1030~mbar, T=44C, RH=30%, 18.1~g/m$^3$  absolute humidity. \n",
    "\n",
    "### ExtremeHumidity:\n",
    "__very high humidity - Arabian gulf, tropical Africa / Amazon__  \n",
    "User model (36 layers), 23 km visibility  Rural aerosol, ground level P=1030~mbar, T=35C, RH=95%, 37.9~g/m$^3$ absolute humidity. \n",
    "At sea level, this atmosphere corresponds with  the highest recorded dew point at 34~$^\\circ$C.  MIL-HDBK-310 indicates that the probability of absolute humidity exceeding this level is significantly less than 1\\%. This corresponds to the highest recorded humidity ever, recorded in Sharjah in the UAE.\n",
    "\n",
    "### MidLatMaritimeSummer:\n",
    "__Mediterranean coastal summer day good visibility__  \n",
    "Mid-Latitude Summer, 23 km visibility  Maritime aerosol, ground level P=1012~mbar, T=21C, RH=76%, 14~g/m$^3$ absolute humidity. \n",
    "\n",
    "### MidLatMaritimeWinter:\n",
    "__Mediterranean coastal winter day poor visibility__  \n",
    "Mid-Latitude Winter, 10 km visibility  Maritime aerosol, ground level P=1018~mbar, T=-1C, RH=77%, 3~g/m$^3$ absolute humidity. \n",
    "\n",
    "### ScandinavianSummer:\n",
    "__Scandinavian summer day, windy conditions__  \n",
    "Sub-Arctic Summer, 31 km visibility  Navy Maritime aerosol (wind speed 20 m/s, 24 hr ave 8 m/s), ground level P=1010~mbar, T=14C, RH=75%, 9~g/m$^3$ absolute humidity. \n",
    "\n",
    "### ScandinavianWinter:\n",
    "__Scandinavian winter day, windy conditions__  \n",
    "Sub-Arctic Winter, 31 km visibility  Navy Maritime aerosol (wind speed 20 m/s, 24 hr ave 8 m/s), ground level P=1010~mbar, T=-15.9C, RH=80%, 1~g/m$^3$ absolute humidity. \n",
    "\n",
    "### TropicalDesert:\n",
    "__Moderate temperature, 75 km Desert visibility - no wind, clear day in the desert__  \n",
    "Tropical, 75 km visibility  Desert aerosol, ground level P=1013~mbar, T=26.5C, RH=75%, 18.8~g/m$^3$ absolute humidity. \n",
    "\n",
    "### TropicalRural:\n",
    "__Moderate temperature, 23 km Rural visibility__  \n",
    "Tropical, 23 km visibility  Rural aerosol, ground level P=1013~mbar, T=26.5C, RH=75%, 18.8~g/m$^3$ absolute humidity. \n",
    "\n",
    "### TropicalUrban:\n",
    "__Moderate temperature, 5 km Urban visibility__  \n",
    "Tropical, 5 km visibility  Urban aerosol, ground level P=1013~mbar, T=26.5C, RH=75%, 18.8~g/m$^3$ absolute humidity. \n",
    "\n",
    "### USStdNavyMarVis23km:\n",
    "__Moderately Low temperature, moderate humudity, 23 km Navy Maritime visibility__  \n",
    "US Standard, 23 km visibility  Navy Maritime aerosol, ground level P=1013~mbar, T=15C, RH=46%, 5.9~g/m$^3$ absolute humidity.  Windspeed of 7.4 m/s corresponds to a Beaufort sea state 4."
   ]
  },
  {
   "cell_type": "markdown",
   "metadata": {},
   "source": [
    "# Preparing for Analysis"
   ]
  },
  {
   "cell_type": "code",
   "execution_count": null,
   "metadata": {
    "collapsed": false,
    "jupyter": {
     "outputs_hidden": false
    }
   },
   "outputs": [],
   "source": [
    "#to prepare the environment\n",
    "import numpy as np\n",
    "import scipy as sp\n",
    "import pandas as pd\n",
    "import pyradi.ryplot as ryplot\n",
    "import os.path\n",
    "from scipy.optimize import curve_fit\n",
    "\n",
    "%matplotlib inline\n",
    "\n",
    "# %reload_ext autoreload\n",
    "# %autoreload 2\n",
    "\n",
    "import pyradi.ryplot as ryplot\n",
    "import pyradi.ryplanck as ryplanck\n",
    "import pyradi.ryfiles as ryfiles\n",
    "import pyradi.rymodtran as rymodtran\n",
    "\n",
    "# import xlsxwriter\n",
    "\n",
    "from IPython.display import HTML\n",
    "from IPython.display import Image\n",
    "from IPython.display import display\n",
    "from IPython.display import FileLink, FileLinks\n",
    "\n",
    "#make pngs at 150 dpi\n",
    "import matplotlib as mpl\n",
    "mpl.rc(\"savefig\", dpi=150)\n",
    "mpl.rc('figure', figsize=(10,8))\n",
    "# %config InlineBackend.figure_format = 'svg'\n",
    "\n",
    "pd.set_option('display.max_columns', 80)\n",
    "pd.set_option('display.width', 200)\n",
    "pd.set_option('display.max_colwidth', 150)\n",
    "\n"
   ]
  },
  {
   "cell_type": "markdown",
   "metadata": {},
   "source": [
    "Load the standard atmospheric atmospheres definitions."
   ]
  },
  {
   "cell_type": "code",
   "execution_count": null,
   "metadata": {
    "collapsed": false,
    "jupyter": {
     "outputs_hidden": false
    }
   },
   "outputs": [],
   "source": [
    "#to define the atmospheres\n",
    "\"\"\"This file provides Python-style definitions of the standard atmospheres.\n",
    "This file can be included in other python scripts\n",
    "\"\"\"\n",
    "\n",
    "#each base tape5 file is in its own directory\n",
    "dirs = ['ExtremeHotLowHumidity', 'ExtremeHumidity',\n",
    "        'MidLatMaritimeSummer','MidLatMaritimeWinter',\n",
    "        'ScandinavianSummer','ScandinavianWinter',\n",
    "        'TropicalDesert','TropicalRural',\n",
    "        'TropicalUrban','USStdNavyMarVis23km']\n",
    "        \n",
    "#altitudes  (in m)\n",
    "alts = [305, 1524, 3048, 4572, 6096, 7620, 9144, 10668, 12192, 13716, 14326, 15240]\n",
    "              \n",
    "atmospheres = {\n",
    "    u'ExtremeHotLowHumidity':['44 C, 30% RH (18.1), 77 km Vis Desert'],\n",
    "    u'ExtremeHumidity'      :['35 C, 95% RH (37.9), 23 km Vis Rural'],\n",
    "    u'MidLatMaritimeSummer' :['21 C, 76% RH (14), 23 km Vis Maritime'],\n",
    "    u'MidLatMaritimeWinter' :['-1 C, 77% RH (3), 10 km Vis Maritime'],\n",
    "    u'ScandinavianSummer'   :['14 C, 75% RH (9), 31 km Vis Maritime'],\n",
    "    u'ScandinavianWinter'   :['-15.9 C, 80% RH (1), 31 km Vis Maritime'],\n",
    "    u'TropicalDesert'       :['26.6 C, 75% RH (18), 75 km Vis Desert'], \n",
    "    u'TropicalRural'        :['26.6 C, 75% RH (18), 23 km Vis Rural'],\n",
    "    u'TropicalUrban'        :['26.6 C, 75% RH (18), 5 km Vis Urban'],\n",
    "    u'USStdNavyMarVis23km'  :['15 C, 46% RH (5.9), 23 km Vis Nav.Mar, SS4'],\n",
    "    }\n"
   ]
  },
  {
   "cell_type": "markdown",
   "metadata": {},
   "source": [
    "# Atmospheric Vertical Profiles"
   ]
  },
  {
   "cell_type": "markdown",
   "metadata": {},
   "source": [
    "The vertical profiles are extracted from the tape6 files."
   ]
  },
  {
   "cell_type": "code",
   "execution_count": null,
   "metadata": {
    "collapsed": false,
    "jupyter": {
     "outputs_hidden": false
    }
   },
   "outputs": [],
   "source": [
    "#to plot the vertical profiles\n",
    "def plotProfiles(alts, dirs, atmospheres,maxalt):\n",
    "    #first plot the different altitudes for each atmosphere\n",
    "    pa = ryplot.Plotter(4, 1, 1, figsize=(6,6));\n",
    "    pp = ryplot.Plotter(1, 1, 1, figsize=(6,6));\n",
    "    pt = ryplot.Plotter(2, 1, 1, figsize=(6,6));\n",
    "    ph = ryplot.Plotter(3, 1, 1, figsize=(6,6));\n",
    "    \n",
    "    for i,directory in enumerate(dirs):\n",
    "        for alt in alts:\n",
    "            if alt == 305:\n",
    "                datadir = os.path.join('.',directory,'{}'.format(alt))\n",
    "                filename = os.path.join(datadir,'tape6')\n",
    "                with open(filename,'rt') as fin:\n",
    "                    lines = fin.readlines()\n",
    "                    cntProfiles = 0\n",
    "                    linecnt = 0\n",
    "                    doLines = True\n",
    "                    while(doLines and linecnt < len(lines)):\n",
    "                        if 'ATMOSPHERIC PROFILES' in lines[linecnt]:\n",
    "                            linecnt += 2 # discard empty line and read next\n",
    "                            acclines = []\n",
    "                            if 'RH (%)' in lines[linecnt]:\n",
    "                                linecnt += 2 # discard header lines\n",
    "                                for i in range(36):\n",
    "                                    acclines.append((lines[linecnt]).split())\n",
    "                                    linecnt += 1\n",
    "                                arr = np.asarray(acclines, dtype=np.float)\n",
    "                                arr[0,1] = .1\n",
    "                                #write profile to disk\n",
    "                                profile = np.hstack((arr[:,1].reshape(-1,1),arr[:,2].reshape(-1,1),arr[:,3].reshape(-1,1),arr[:,10].reshape(-1,1)))\n",
    "                                profilepath = os.path.join('.',directory,'{}-profile.txt'.format(directory))\n",
    "                                np.savetxt(profilepath, profile)\n",
    "                                #process\n",
    "                                arrdf = pd.DataFrame(arr)\n",
    "                                arrdf = arrdf[arrdf[1] <= maxalt]\n",
    "                                arr = arrdf.values\n",
    "                                aero = np.sum(arr[:,4:8], axis=1)\n",
    "                                pa.logLog(1,aero,arr[:,1],label=[directory])\n",
    "                                pp.semilogY(1,arr[:,2],arr[:,1],label=[directory])\n",
    "                                pt.semilogY(1,arr[:,3],arr[:,1],label=[directory])\n",
    "                                ph.semilogY(1,arr[:,10],arr[:,1],label=[directory])\n",
    "                                doLines = False\n",
    "                        linecnt += 1\n",
    "        \n",
    "    cpa = pa.getSubPlot(1)\n",
    "    cpp = pp.getSubPlot(1)\n",
    "    cpt = pt.getSubPlot(1)\n",
    "    cph = ph.getSubPlot(1)\n",
    "    \n",
    "    for falt in [1000, 5000, 30000]:\n",
    "        malt = 0.3048 * falt / 1000.\n",
    "        pa.logLog(1,np.asarray([1e-4,1e0]),np.asarray([malt,malt]),plotCol='k')\n",
    "        cpa.text(0.2,0.9*malt, '{:.0f} kft'.format(falt/1000.), horizontalalignment='left', fontsize=8)    \n",
    "        pp.semilogY(1,np.asarray([240,1040]),np.asarray([malt,malt]),plotCol='k')\n",
    "        cpp.text(960,0.9*malt, '{:.0f} kft'.format(falt/1000.), horizontalalignment='left', fontsize=8)    \n",
    "        pt.semilogY(1,np.asarray([210,330]),np.asarray([malt,malt]),plotCol='k')\n",
    "        cpt.text(318,0.9*malt, '{:.0f} kft'.format(falt/1000.), horizontalalignment='left', fontsize=8)    \n",
    "        ph.semilogY(1,np.asarray([10,100]),np.asarray([malt,malt]),plotCol='k')\n",
    "        cph.text(92,0.9*malt, '{:.0f} kft'.format(falt/1000.), horizontalalignment='left', fontsize=8)    \n",
    "\n",
    "    for ext in np.logspace(-2,0, 20):#[1e-2, 1e-1, 1]:\n",
    "        cpa.text(ext,0.105, '{:.0f} km vis'.format(3.91/ext), verticalalignment='bottom', horizontalalignment='center', fontsize=8, rotation=90)        \n",
    "        \n",
    "    cpa.set_xlabel('Extinction [km$^{-1}$]')\n",
    "    cpa.set_ylabel('Altitude [km]')\n",
    "    cpa.set_title('Vertical 550 nm Extinction Profiles')\n",
    "    cpp.set_xlabel('Pressure [mBar]')\n",
    "    cpp.set_ylabel('Altitude [km]')\n",
    "    cpp.set_title('Vertical Pressure Profiles')\n",
    "    cpt.set_xlabel('Temperature [K]')\n",
    "    cpt.set_ylabel('Altitude [km]')\n",
    "    cpt.set_title('Vertical Temperature Profiles')\n",
    "    cph.set_xlabel('Relative humidity [%]')\n",
    "    cph.set_ylabel('Altitude [km]')\n",
    "    cph.set_title('Vertical Humidity Profiles')\n",
    "#     pa.saveFig('profiles-aerosol.png')\n",
    "#     pp.saveFig('profiles-pressure.png')\n",
    "#     pt.saveFig('profiles-temperature.png')\n",
    "#     ph.saveFig('profiles-humidity.png')\n",
    "    \n",
    "plotProfiles(alts, dirs, atmospheres, 10.)    "
   ]
  },
  {
   "cell_type": "markdown",
   "metadata": {},
   "source": [
    "# Spectral Transmittance Plots\n",
    "\n",
    "Plot the spectral transmittance for 1-km path length. Two sets of plots are shown:   \n",
    " 1. For each atmosphere, plot the transmittance at different altitudes.   \n",
    " 2. For shared altitudes, plot the different atmosphere's transmittance.  "
   ]
  },
  {
   "cell_type": "code",
   "execution_count": null,
   "metadata": {
    "collapsed": false,
    "jupyter": {
     "outputs_hidden": false
    },
    "scrolled": true
   },
   "outputs": [],
   "source": [
    "#to plot the spectral transmittance\n",
    "def plotTau(alts, dirs, atmospheres):\n",
    "  #first plot the different altitudes for each atmosphere\n",
    "  for i,directory in enumerate(dirs):\n",
    "    p = ryplot.Plotter(i, 1, 1, figsize=(12,6))\n",
    "    for alt in alts:\n",
    "      datadir = os.path.join('.',directory,'{}'.format(alt))\n",
    "      filename = '{}-{}m.1km'.format(directory, alt)\n",
    "      data = np.loadtxt(os.path.join(datadir,filename), skiprows=1)\n",
    "      p.plot(1, data[:,0], data[:,1],\n",
    "        '{} {} 1 km transmittance, 135 deg zenith'.format(directory, atmospheres[directory][0]),\n",
    "        'Wavelength $\\mu$m','Transmittance', label=['{} m'.format(alt)],legendAlpha=0.5)\n",
    "#     p.saveFig(os.path.join('.',directory,'{}.png'.format(directory)))\n",
    "    \n",
    "  #now plot the different atmospheres for each altitude\n",
    "  for j, alt in enumerate(alts):\n",
    "    p = ryplot.Plotter(j+len(dirs), 1, 1, figsize=(12,6))\n",
    "    for i,directory in enumerate(dirs):\n",
    "      datadir = os.path.join('.',directory,'{}'.format(alt))\n",
    "      filename = '{}-{}m.1km'.format(directory, alt)\n",
    "      data = np.loadtxt(os.path.join(datadir,filename), skiprows=1)\n",
    "      p.plot(1, data[:,0], data[:,1],\n",
    "        '{} m altitude, 135 deg zenith 1 km transmittance'.format(alt),\n",
    "        'Wavelength $\\mu$m','Transmittance', label=['{} {}'.format(directory, atmospheres[directory][0])],\n",
    "        legendAlpha=0.5)\n",
    "#     p.saveFig(os.path.join('.','AllScen-{}m.png'.format(alt)))\n",
    "\n",
    "plotTau(alts, dirs, atmospheres)"
   ]
  },
  {
   "cell_type": "markdown",
   "metadata": {},
   "source": [
    "# Apparent Atmospheric Temperature"
   ]
  },
  {
   "cell_type": "markdown",
   "metadata": {},
   "source": [
    "The apparent temperature of the atmosphere is a complex function of the temperature profile along the path.  For slant paths in inhomogeneous atmospheres the effective temperature is affected stronger by the path sections closer to the sensor than path sections further away.  \n",
    "\n",
    "It can be shown that the path radiance in the infrared can be approximated by\n",
    "\n",
    "\\begin{equation}\n",
    "L_\\textrm{path} = (1-\\tau)\\,L(T_\\textrm{bb})\n",
    "\\end{equation}\n",
    "\n",
    "This implies that if $L_\\textrm{path}$ and $\\tau$ are known $T_\\textrm{bb}$ can be determined.  The solution is determined by fitting a curve of the above shape to the Modtran-calculated path radiance, finding $T_\\textrm{bb}$ for the best fit.  Only the thermal path radiance is used, which has most of its optical flux at wavenumbers below 2500 cm$^{-1}$.\n",
    "\n",
    "The analysis below considers three spectral bands: (1) a band in the 3.5-4.8 $\\mu$m range, (1) a band in the 8.3-12 $\\mu$m range, and (3) a band that covers _four_ windows in the 3.2-12.5 $\\mu$m range.  \n",
    "\n",
    "It turns out that the temperatures calculated for the 3.5-4.8 $\\mu$m band is similar to the average or broadband temperature, because of the mix of CO$_2$ absorption and good transmittance in this band.\n",
    "\n",
    "At low altitudes all the atmospheric temperatures are similar but at high altitudes there can be a significant spread in the values.\n",
    "\n",
    "The term 'best fit' is not easily defined.  It is not clear what a simple fit through all the data really mean.  Several options were considered: (1) use only the spectral ranges with high transmittance, (2) use only the spectral ranges with poor transmittance, (3) use all the data, and (4) calculate the mean value of the first two options.\n",
    "The results of these two approaches are shown below in the example graphs.  The temperatures calculated from all the data and the mean of the high and low transmittance temperatures are broadly in agreement. \n",
    "\n",
    "If the apparent atmosphere temperatures are used in applications where the path radiance in the atmospheric windows are required, it is proposed that the 'high transmittance' temperature values be used. These values will be more applicable to the in-band path radiance.\n",
    "\n",
    "\n",
    "The results shown in the graphs and tables below are for the following conditions:  \n",
    "\n",
    "|Heading|Meaning|\n",
    "|--|--|\n",
    "|TmpLoTau|Apparent temperature in _all_ spectral ranges with low transmittance|\n",
    "|TmpHiTau|Apparent temperature in _all_ spectral ranges with high transmittance|\n",
    "|3.5-4.8|Apparent temperature in the full spectral band (including absorption)|\n",
    "|8.3-12|Apparent temperature in the full spectral band (including absorption)|\n",
    "|TmpAve|Arithmetic Average (TmpLoTau+TmpHiTau)/2|\n",
    "|TmpAll|Apparent temperature over the total spectral range|\n"
   ]
  },
  {
   "cell_type": "code",
   "execution_count": null,
   "metadata": {},
   "outputs": [],
   "source": [
    "#to return Placnk radiator radiance\n",
    "def lpathfunc(nu,tbb):\n",
    "    return  ryplanck.planck(nu,tbb, 'en') / np.pi "
   ]
  },
  {
   "cell_type": "code",
   "execution_count": null,
   "metadata": {
    "collapsed": false,
    "jupyter": {
     "outputs_hidden": false
    }
   },
   "outputs": [],
   "source": [
    "#to calculate and plot atmospheric temperature\n",
    "files = ryfiles.listFiles(root=r'.', \n",
    "                patterns=r'.*tape7', recurse=1, return_folders=0, useRegex=True)\n",
    "\n",
    "#remove the files with elev in the name\n",
    "fileslist = []\n",
    "for filen in files:\n",
    "    if 'elev' not in filen:\n",
    "        fileslist.append(filen)\n",
    "\n",
    "\n",
    "dfAtmoTempCols = ['Atmosphere','Altitude','TmpLoTau','TmpHiTau','3.5-4.8','8.3-12','TmpAve','TmpAll']\n",
    "dfAtmoTemp = pd.DataFrame(columns=dfAtmoTempCols)\n",
    "\n",
    "# for i,filename in enumerate([r'C:\\WorkA\\TAPM\\Atmospheres\\Standard\\ExtremeHotLowHumidity\\305\\tape7',\n",
    "#                             r'C:\\WorkA\\TAPM\\Atmospheres\\Standard\\ExtremeHotLowHumidity\\15240\\tape7']):\n",
    "for i,filename in enumerate(fileslist):\n",
    "    filesplit = filename.split('\\\\')\n",
    "    colselect = ['FREQ', 'TOT_TRANS','PTH_THRML']\n",
    "    tape7 = rymodtran.loadtape7(filename, colselect )\n",
    "    tape7[:,2] *= 1e4\n",
    "\n",
    "    genericbands = {\n",
    "        '10-12,5':[12.5, 10.],  # generic\n",
    "        '8.33-9.34':[9.34, 8.33],  # generic\n",
    "        '4.5-5.0':[5.0, 4.5],  # generic\n",
    "        '3.2-4.5':[4.17, 3.2],  # generic\n",
    "        }\n",
    "    camerabands = {    \n",
    "        '8.33-12.0':[12.0, 8.33], # this is the 8-12 band including \n",
    "        '3.5-4.8':[4.8, 3.5], # this is the 3-5 band including CO2\n",
    "        }\n",
    "    \n",
    "    #prepare selection for generic bands\n",
    "    selectHiTau = np.zeros(tape7[:,0].shape)\n",
    "    for key in genericbands:\n",
    "        selectHiTau = np.logical_or(selectHiTau, \n",
    "            np.all([ tape7[:,0] >= 1e4/genericbands[key][0], tape7[:,0] <= 1e4/genericbands[key][1]], axis=0))\n",
    "\n",
    "    selectLoTau = np.logical_not(selectHiTau)\n",
    "    select3to5 = np.all([ tape7[:,0] >= 1e4/camerabands['3.5-4.8'][0], tape7[:,0] <= 1e4/camerabands['3.5-4.8'][1]], axis=0)\n",
    "    select8to12 = np.all([ tape7[:,0] >= 1e4/camerabands['8.33-12.0'][0], tape7[:,0] <= 1e4/camerabands['8.33-12.0'][1]], axis=0)\n",
    "   \n",
    "    popt, pcov = curve_fit(lpathfunc,tape7[selectHiTau,0], tape7[selectHiTau,2]/(1-tape7[selectHiTau,1]), p0=(250.) )\n",
    "    tmpHiTau = popt[0]\n",
    "    popt, pcov = curve_fit(lpathfunc,tape7[selectLoTau,0], tape7[selectLoTau,2]/(1-tape7[selectLoTau,1]), p0=(250.) )\n",
    "    tmpLoTau = popt[0]\n",
    "    tmpAve = (tmpHiTau + tmpLoTau) / 2.\n",
    "    popt, pcov = curve_fit(lpathfunc,tape7[:,0], tape7[:,2]/(1-tape7[:,1]), p0=(250.) )\n",
    "    tmpAll = popt[0]\n",
    "    popt, pcov = curve_fit(lpathfunc,tape7[select3to5,0], tape7[select3to5,2]/(1-tape7[select3to5,1]), p0=(250.) )\n",
    "    tmp3to5 = popt[0]\n",
    "    popt, pcov = curve_fit(lpathfunc,tape7[select8to12,0], tape7[select8to12,2]/(1-tape7[select8to12,1]), p0=(250.) )\n",
    "    tmp8to12 = popt[0]\n",
    "    \n",
    "    dfAtmoTemp = dfAtmoTemp.append(pd.DataFrame([[filesplit[-3], float(filesplit[-2]), tmpLoTau, tmpHiTau, \n",
    "                            tmp3to5, tmp8to12, tmpAve, tmpAll]], columns=dfAtmoTempCols))\n",
    "\n",
    "    if filesplit[-3] =='ExtremeHotLowHumidity' and (filesplit[-2]=='305' or filesplit[-2]=='15240') :\n",
    "\n",
    "        p = ryplot.Plotter(i, 2,2,'{} - {} m'.format(filesplit[-3],filesplit[-2]),figsize=(10,10))\n",
    "        p.plot(1, tape7[:,0],selectHiTau * .2, plotCol='m',label=['High $\\\\tau$ selection'], linestyle='--', )\n",
    "        p.plot(1, tape7[:,0],select3to5 * 0.4, plotCol='y',label=['3.5-4.8 $\\\\mu$m'], linestyle='--', )\n",
    "        p.plot(1, tape7[:,0],select8to12 * 0.4, plotCol='c',label=['8.3-12 $\\\\mu$m'], linestyle='--', )\n",
    "        p.plot(1, tape7[:,0],tape7[:,1],colselect[1],'Wavenumber cm$^{-1}$','Transmittance',\n",
    "                    plotCol='r',maxNX=5,pltaxis=[0,4000,0,1])\n",
    "        \n",
    "        p.plot(2, tape7[:,0],tape7[:,2],colselect[2],'Wavenumber cm$^{-1}$','Radiance W/(m$^2$.sr.cm$^{-1}$)',\n",
    "                    plotCol='r',label=['$L_\\\\mathrm{path}$'])\n",
    "        p.plot(2, tape7[:,0],tape7[:,2]/(1.-tape7[:,1]),plotCol='b',label=['$L_\\\\mathrm{path}$ / $(1-\\\\tau)$'], \n",
    "                    maxNX=5)\n",
    "        p.plot(2, tape7[:,0],selectHiTau * 0.05, plotCol='m',label=['High $\\\\tau$ selection'], linestyle='--', )\n",
    "        p.plot(2, tape7[:,0],select3to5 * 0.1, plotCol='y',label=['3.5-4.8 $\\\\mu$m'], linestyle='--', )\n",
    "        p.plot(2, tape7[:,0],select8to12 * 0.1, plotCol='c',label=['8.3-12 $\\\\mu$m'], linestyle='--', )\n",
    "        p.plot(2, tape7[:,0],ryplanck.planck(tape7[:,0],tmpHiTau,'en')/np.pi,\n",
    "                plotCol='g',label=['$L_\\\\mathrm{bb}$'+'({:.1f}) K (high $\\\\tau$)'.format(tmpHiTau)])\n",
    "        p.plot(2, tape7[:,0],ryplanck.planck(tape7[:,0],tmpAll,'en')/np.pi,\n",
    "                plotCol='k',label=['$L_\\\\mathrm{bb}'+'$({:.1f}) K (all)'.format(tmpAll)])\n",
    "        p.plot(2, tape7[:,0],ryplanck.planck(tape7[:,0],tmpLoTau,'en')/np.pi,\n",
    "                plotCol='c',label=['$L_\\\\mathrm{bb}$'+'({:.1f}) K (low  $\\\\tau$)'.format(tmpLoTau)], \n",
    "                    maxNX=5,pltaxis=[650,2500,0,0.15])        \n",
    "        \n",
    "        p.semilogY(3, tape7[:,0],tape7[:,1],colselect[1],'Wavenumber cm$^{-1}$','Transmittance',\n",
    "                    plotCol='r',maxNX=5,pltaxis=[0,16000,1e-9,1e0])\n",
    "        p.semilogY(4, tape7[:,0],tape7[:,2],colselect[2],'Wavenumber cm$^{-1}$','Radiance W/(m$^2$.sr.cm$^{-1}$)',\n",
    "                    plotCol='r',label=['$L_\\\\mathrm{path}$'])\n",
    "        p.semilogY(4, tape7[:,0],tape7[:,2]/(1.-tape7[:,1]),plotCol='b',label=['$L_\\\\mathrm{path}$ / $(1-\\\\tau)$'], \n",
    "                    maxNX=5,pltaxis=[0,16000,1e-30,1e0])\n",
    "        p.semilogY(4, tape7[:,0],ryplanck.planck(tape7[:,0],tmpHiTau,'en')/np.pi,\n",
    "                    plotCol='g',label=['$L_\\\\mathrm{bb}$'+'({:.1f}) K (high  $\\\\tau$)'.format(tmpHiTau)])\n",
    "        p.semilogY(4, tape7[:,0],ryplanck.planck(tape7[:,0],tmpAll,'en')/np.pi,\n",
    "                    plotCol='k',label=['$L_\\\\mathrm{bb}$'+'({:.1f}) K (all)'.format(tmpAll)])\n",
    "        p.semilogY(4, tape7[:,0],ryplanck.planck(tape7[:,0],tmpLoTau,'en')/np.pi,\n",
    "                    plotCol='c',label=['$L_\\\\mathrm{bb}$'+'({:.1f}) K (low  $\\\\tau$)'.format(tmpLoTau)], \n",
    "                    maxNX=5,pltaxis=[0,16000,1e-30,1e0])\n",
    "       "
   ]
  },
  {
   "cell_type": "code",
   "execution_count": null,
   "metadata": {
    "collapsed": false,
    "jupyter": {
     "outputs_hidden": false
    }
   },
   "outputs": [],
   "source": [
    "#to process and print atmospheric transmittance\n",
    "dfAtmoTempk = dfAtmoTemp.sort_values(by=['Atmosphere','Altitude']).copy()\n",
    "\n",
    "writer = pd.ExcelWriter('./StandardAtmoTemperatures.xlsx', engine='xlsxwriter')\n",
    "dfAtmoTempk.to_excel(writer, sheet_name='Temperatures', startrow=0, startcol=0, header=True, index=False)\n",
    "\n",
    "trimCols = ['TmpLoTau','TmpHiTau','3.5-4.8','8.3-12','TmpAve','TmpAll']\n",
    "for col in trimCols:\n",
    "    dfAtmoTempk[col] =  ((10*dfAtmoTempk[col]).astype(int))/10\n",
    "\n",
    "atmolist = np.unique(dfAtmoTempk['Atmosphere'])\n",
    "string = ''\n",
    "for atmo in atmolist:\n",
    "    dfAtmo = dfAtmoTempk[dfAtmoTempk.Atmosphere==atmo]\n",
    "    dfAtmo = dfAtmo.set_index('Atmosphere')\n",
    "    string += dfAtmo.to_html()\n",
    "HTML(string)"
   ]
  },
  {
   "cell_type": "code",
   "execution_count": null,
   "metadata": {
    "collapsed": false,
    "jupyter": {
     "outputs_hidden": false
    }
   },
   "outputs": [],
   "source": [
    "#to plot atmospheric temperature\n",
    "r = ryplot.Plotter(1,1,1,'',figsize=(10,5))\n",
    "atmoUnique = dfAtmoTempk['Atmosphere'].unique()\n",
    "for atmos in atmoUnique:\n",
    "    atmprofile = dfAtmoTempk[dfAtmoTempk.Atmosphere==atmos]\n",
    "    r.plot(1, atmprofile['Altitude'], atmprofile['3.5-4.8'],xlabel='Altitude [m]',\n",
    "           ylabel='Apparent temperature [K]',ptitle='Down-looking atmospheric temperature 3.5-4.8 $\\mu$m',label=[atmos])\n",
    "for alt in [1000, 5000, 30000]:\n",
    "    malt = 0.3048 * alt\n",
    "    r.plot(1,np.asarray([malt,malt]),np.asarray([240,320]),plotCol='k')\n",
    "    \n",
    "    cp = r.getSubPlot(1)\n",
    "    cp.text(malt, 317, '{:.0f} kft'.format(alt/1000.), \n",
    "                  horizontalalignment='left', fontsize=8)"
   ]
  },
  {
   "cell_type": "markdown",
   "metadata": {},
   "source": [
    "# Effective Transmittance in Spectral Bands\n",
    "\n",
    "The effective transmittance in a number of spectral bands are calculated next.  The effective transmittance is calculated using \n",
    "\n",
    "\\begin{equation}\n",
    "\\tau_\\textrm{eff} = \\frac{\\int_{\\lambda_1}^{\\lambda_2} \\tau_\\lambda\\,L_{\\lambda\\textrm{source}}\\,d\\lambda}{\\int_{\\lambda_1}^{\\lambda_2} L_{\\lambda\\textrm{source}}\\,d\\lambda} = e^{-\\gamma R}\n",
    "\\end{equation}\n",
    "where the integration limits are defined by the spectral band, and the source radiance is calculated as a sum of reflected sunlight and emitted thermal radiation at 300 K, \n",
    "\n",
    "\\begin{equation}\n",
    "L_{\\lambda\\textrm{source}} = (1\\,-\\,\\rho)\\,L_\\textrm{planck}(300K) + \\xi\\,\\rho \\,L_\\textrm{planck}(6000K)\n",
    "\\end{equation}\n",
    "where $\\xi=2.1\\times10^{-5}$ accounts for the sun's distance and area, $\\rho$ is the surface reflection (default value 0.3) and $L_\\textrm{planck}$ is Planck law radiance.  The exact value of reflectance is only important in the MWIR spectral band; in other bands the value divides out in the normalisation, and becomes unimportant.\n",
    "\n",
    "The spectral bands are defined as follows:\n"
   ]
  },
  {
   "cell_type": "code",
   "execution_count": null,
   "metadata": {
    "collapsed": false,
    "jupyter": {
     "outputs_hidden": false
    }
   },
   "outputs": [],
   "source": [
    "#to define the spectral bands\n",
    "specranges = {}\n",
    "with open('data/StandardSpectralRanges.txt','rt') as fin:\n",
    "    lines = fin.readlines()\n",
    "    for line in lines:\n",
    "        linelst = line.rstrip().split()\n",
    "        specranges[linelst[0]] = [float(linelst[1]),float(linelst[2])]\n",
    "print(specranges)\n",
    "import operator\n",
    "specrangesSorted = [x[0] for x in sorted(specranges.items(), key=operator.itemgetter(1))]\n",
    "print(specrangesSorted)"
   ]
  },
  {
   "cell_type": "markdown",
   "metadata": {},
   "source": [
    "The function `analyseTau` calculates the effective transmittance and creates a Pandas dataframe with the results."
   ]
  },
  {
   "cell_type": "code",
   "execution_count": null,
   "metadata": {
    "collapsed": false,
    "jupyter": {
     "outputs_hidden": false
    }
   },
   "outputs": [],
   "source": [
    "#to calculate effective transmittance\n",
    "def analyseTau(alts, dirs, atmospheres,specranges, reflect = 0.3, rangekm=5):\n",
    "    \"\"\"for specified atmospheres and altitudes calculate the effective transmittance\n",
    "    for specified spectral bands, for sunlight radiance and 300K radiance \n",
    "    at the specified distance.\n",
    "    Results are returned in a pandas dataframe\n",
    "    \"\"\"\n",
    "        \n",
    "    #prepare to create the data frame\n",
    "    columns=['Atmosphere','Altitude','SpecRange','EffTauSlant','PathLenSlant','EffTauRange','PathLenRange','effGamma']\n",
    "    aTau = pd.DataFrame(columns=columns)\n",
    "    doPlot = True\n",
    "    for i,directory in enumerate(dirs):\n",
    "        for j, alt in enumerate(alts):\n",
    "            #load data from file\n",
    "            datadir = os.path.join('.',directory,'{}'.format(alt))\n",
    "            filename = '{}-{}m.1km'.format(directory, alt)\n",
    "            data = np.loadtxt(os.path.join(datadir,filename), skiprows=1)\n",
    "\n",
    "            #calculate source radiance for sun and terrain\n",
    "            LSun = ryplanck.planck(data[:,0],6000.,'el')\n",
    "            L300 = ryplanck.planck(data[:,0],300.,'el')\n",
    "            LEff = (1-reflect) * L300 + reflect * 2.1e-5 * LSun\n",
    "            if doPlot:\n",
    "                doPlot = False\n",
    "                p = ryplot.Plotter(1,1,1,'Source Spectrum for Effective Transmittance Calculation',figsize=(12,5))\n",
    "                p.logLog(1,data[:,0],LEff,'','Wavelength [$\\mu$m]',\n",
    "                         'Radiance [W/(m$^2$$\\cdot$sr$\\cdot$$\\mu$m)]')#,pltaxis=[0.3,14,1,1000])\n",
    "                    \n",
    "            for k, spec in enumerate(specranges.keys()):\n",
    "                #select a smaller spectral integration range according to spectral band definition\n",
    "                select = np.zeros(data[:,0].shape)\n",
    "                select = np.where(((data[:,0]>=specranges[spec][0]) & (data[:,0]<=specranges[spec][1])), 1.0, 0.0)\n",
    "                # the following two lines check spectral selection\n",
    "        #         seldiff = np.where(np.diff(select) != 0)\n",
    "        #         print(specranges[spec][0], specranges[spec][1], data[seldiff,0])\n",
    "                    \n",
    "                #get slant path distance\n",
    "                rangesl = ((alt/1000.) / (np.cos(45.0 * np.pi / 180.)) )\n",
    "\n",
    "                taukm = np.exp( rangekm * np.log(data[:,1]))\n",
    "                tausl = np.exp( rangesl * np.log(data[:,1]))\n",
    "                effTaukm = np.trapz(select *LEff * taukm,data[:,0]) / np.trapz(select * LEff, data[:,0])\n",
    "                effTaukm = int(1000.*effTaukm) / 1000.\n",
    "                effTausl = np.trapz(select *LEff * tausl\n",
    "                                    ,data[:,0]) / np.trapz(select * LEff, data[:,0])\n",
    "                effGamma = -np.log(effTausl)/rangesl\n",
    "                effTausl = int(1000.*effTausl) / 1000.\n",
    "                aTau = aTau.append(pd.DataFrame([[directory,alt,spec,effTausl,rangesl,effTaukm,rangekm, effGamma]], columns=columns))\n",
    "    return(aTau)    "
   ]
  },
  {
   "cell_type": "markdown",
   "metadata": {},
   "source": [
    "Calculate the effective transmittance dataframe for the path length as shown below.  The source spectral radiance used in the calculation is also shown below."
   ]
  },
  {
   "cell_type": "code",
   "execution_count": null,
   "metadata": {
    "collapsed": false,
    "jupyter": {
     "outputs_hidden": false
    }
   },
   "outputs": [],
   "source": [
    "#to define atmospheric conditions\n",
    "rangekm = 5 \n",
    "reflect = 0.3\n",
    "limAlts = alts\n",
    "# limAlts = [305, 1524, 3048, 4572,  10668, 15240]\n",
    "# limAlts = [4572]\n",
    "aTau = analyseTau(limAlts, dirs, atmospheres, specranges, reflect, rangekm)\n",
    "# print(aTau)\n"
   ]
  },
  {
   "cell_type": "code",
   "execution_count": null,
   "metadata": {
    "collapsed": false,
    "jupyter": {
     "outputs_hidden": false
    }
   },
   "outputs": [],
   "source": [
    "#to sort and process the data\n",
    "#first set up the dataframe to sort spectral range by the low wavelength, rather than alpha\n",
    "# http://stackoverflow.com/questions/23482668/sorting-by-a-custom-list-in-pandas\n",
    "specrangesSorted = sorted(specranges, key=lambda key: specranges[key][0])\n",
    "aTau.SpecRange = aTau.SpecRange.astype(\"category\")\n",
    "aTau.SpecRange.cat.set_categories(specrangesSorted, inplace=True)\n"
   ]
  },
  {
   "cell_type": "markdown",
   "metadata": {},
   "source": [
    "Next manipulate the data to extract and display the effective transmittance values in tabular form for the different altitudes.\n",
    "\n",
    "The data in the following tables describe two different path types in a somewhat confusing manner. Please note the following:\n",
    "\n",
    "1. Slant path from altitude to ground: The first table in the set provides the effective transmittance along the slant path, from the stated altitude to ground, with a slant angle of -45 deg.  The path length quoted here ranges from altitude to ground at a fixed slant angle.\n",
    "\n",
    "2. Near horizontal path: The second table in the set provides the effective transmittance but scaled to a fixed path length (e.g. 5 km) from the stated altitude, but at some arbitrary slant angle that would give a path length of the stated fixed path length.  In other words the slant angle is adjusted to provide a path length of 5 km. This does not make sense for altitudes above 5 km, but the values are calculated anyway."
   ]
  },
  {
   "cell_type": "code",
   "execution_count": null,
   "metadata": {
    "collapsed": false,
    "jupyter": {
     "outputs_hidden": false
    },
    "scrolled": true
   },
   "outputs": [],
   "source": [
    "#to build the result tables\n",
    "string = ''\n",
    "for alt in limAlts:\n",
    "    filData = aTau[aTau['Altitude']==alt]\n",
    "    filData = filData.drop('Altitude', axis=1)\n",
    "    \n",
    "    pathType = ['PathLenSlant', 'PathLenRange']\n",
    "    effTType = ['EffTauSlant', 'EffTauRange']\n",
    "    \n",
    "    for i in [0,1]:\n",
    "        redData = filData\n",
    "        #get appropriate range and drop the original rangecolumns\n",
    "        pathlen = 1000. * np.unique(redData[[(pathType[i])]].values)[0]\n",
    "        redData = redData.drop('PathLenSlant', axis=1)\n",
    "        redData = redData.drop('PathLenRange', axis=1)\n",
    "        redData = redData.drop('effGamma', axis=1)\n",
    "        if i == 0:\n",
    "            redData = redData.drop('EffTauRange', axis=1)\n",
    "        else:\n",
    "            redData = redData.drop('EffTauSlant', axis=1)\n",
    "            \n",
    "        #build a long description of the atmosphere\n",
    "        redData.Atmosphere = redData.Atmosphere.map(lambda x: ' '.join((x, atmospheres[x][0])))\n",
    "        #first create the mulitindex row-wise\n",
    "        redData = redData.set_index(['Atmosphere', 'SpecRange'])\n",
    "        #then unstack the deepest row-indexes into columns and select the target sze and concept \n",
    "        redData =  redData.unstack(('SpecRange'))\n",
    "        redData.reindex_axis(sorted(redData.columns), axis=1)\n",
    "\n",
    "        if i == 0:\n",
    "            string += r'<P>\\newpage'\n",
    "            string +=  '<P>\\nAltitude {} m, slant path length {:.0f} m, (recalculated from 1 km data set)'.format(alt,pathlen)\n",
    "        else:\n",
    "            string +=  '<P>\\nAltitude {} m, fixed path length {:.0f} m, (recalculated from 1 km data set)'.format(alt,pathlen)\n",
    "        string += redData.to_html()\n",
    "\n",
    "HTML(string)"
   ]
  },
  {
   "cell_type": "markdown",
   "metadata": {},
   "source": [
    "# Effective transmittance and path radiance to space vs sensor zenith angle"
   ]
  },
  {
   "cell_type": "markdown",
   "metadata": {},
   "source": [
    "Consider a set of paths to space from the sea level at varying zenith angles from vertically up, down to the horizon.  This section plots the effective transmittance and path radiance along these paths for the standard atmospheres.  The effective transmittance is calculated for source temperatures of 6000~K and 300~K.  The path radiance is calculated in radiant and photon rate units.\n",
    "\n",
    "The data is pre-calculated with the function `domodtran-elevation.py` and the results stored in an Excel spreadsheet."
   ]
  },
  {
   "cell_type": "code",
   "execution_count": null,
   "metadata": {
    "collapsed": false,
    "jupyter": {
     "outputs_hidden": false
    }
   },
   "outputs": [],
   "source": [
    "#to load the data and print the column headings\n",
    "dfEff = pd.read_excel('atmos-elevation-angles.xlsx')\n",
    "print(dfEff.columns)\n",
    "# print(dfEff.Zenith.unique())"
   ]
  },
  {
   "cell_type": "markdown",
   "metadata": {},
   "source": [
    "The columns in the spreadsheet are as follows:\n",
    "\n",
    "    u'Atmo' is the type of atmosphere\n",
    "    u'Altitude' is the ground altitude\n",
    "    u'Zenith' is the zenith angle\n",
    "    u'SpecBand' is the spectral band \n",
    "    u'ToaWattTot' is the wideband top-of-atmosphere radiant irradiance\n",
    "    u'ToaWatt' is the inband top-of-atmosphere radiant irradiance\n",
    "    u'BoaWattTot' is the wideband bottom-of-atmosphere radiant irradiance\n",
    "    u'BoaWatt' is the inband bottom-of-atmosphere radiant irradiance\n",
    "    u'LpathWatt' is the inband path radiant radiance\n",
    "    u'ToaQTot' is the wideband top-of-atmosphere photon rate irradiance\n",
    "    u'ToaQ' is the inband top-of-atmosphere photon rate irradiance\n",
    "    u'BoaQTot' is the wideband bottom-of-atmosphere photon rate irradiance\n",
    "    u'BoaQ' is the inband bottom-of-atmosphere photon rate irradiance\n",
    "    u'LpathQ' is the inband path photon rate radiance\n",
    "    u'effTauSun' is the inband effective transmittance for a 6000 K source\n",
    "    u'effTau300' is the inband effective transmittance for a 300 K source\n",
    "\n",
    "where 'wideband' means over the full spectral range of 0.29 to 15.2 $\\mu$m and 'inband' means the standard spectral band defined as follows:"
   ]
  },
  {
   "cell_type": "code",
   "execution_count": null,
   "metadata": {
    "collapsed": false,
    "jupyter": {
     "outputs_hidden": false
    }
   },
   "outputs": [],
   "source": [
    "#ro print the spectral ranges\n",
    "print(specranges)"
   ]
  },
  {
   "cell_type": "markdown",
   "metadata": {},
   "source": [
    "The path radiance calculation does not include the sun's direct illumination, but it does include the halo scattering of sunlight.  The Modtran `tape6` file contains the following:\n",
    "\n",
    "    LATITUDE AT H1ALT =                0.0000 DEG NORTH OF EQUATOR\n",
    "    LONGITUDE AT H1ALT =               0.0000 DEG WEST OF GREENWICH\n",
    "\n",
    "    SUBSOLAR LATITUDE =              -23.0700 DEG NORTH OF EQUATOR\n",
    "    SUBSOLAR LONGITUDE =             359.1925 DEG WEST OF GREENWICH\n",
    "    TIME (<0 UNDEF) =                       12.0000 GREENWICH TIME\n",
    "    PATH AZIMUTH (FROM H1ALT TO H2ALT) =     0.0000 DEG EAST OF NORTH\n",
    "    DAY OF THE YEAR =                       1\n",
    "\n",
    "     EXTRATERRESTIAL SOURCE IS THE SUN\n",
    "\n",
    "from which we see that the azimuth direction for the sensor elevation scans  in this section is  exactly North.  The sun is 23 degrees South of the equator, so the sun direction is outside (South) of the sensor elevation scan direction (North).   The sun is relatively close to the equator, so the halo effect is visible in the data.  The sky radiance close to the sun will be even higher than the value shown here (because the maximum value shown here is still 23 degrees from the sun).  "
   ]
  },
  {
   "cell_type": "raw",
   "metadata": {},
   "source": [
    "The first series of plots show the bottom-of-atmosphere apparent irradiance.  The sun is stationary at a position 23 degrees south of the vertical, and the sensor is viewing the earth  from different zenith angles.  Note that in this configuration the photons pass through the entire atmosphere twice: first from the sun to the earth and then from the earth to the sensor.  This means that the visible band true irradiance at zero  zenith is around 800 W/m\\tsup{2}, which corresponds with the prediction at http://www.instesre.org/Solar/BirdModelNew.htm.  These values are much higher than the value given in Auelmann's paper on page 46 --- his graph is incorrect.\n",
    "\n",
    "At increasing zenith angles the apparent irradiance decreases because of the decreasing atmospheric transmittance. "
   ]
  },
  {
   "cell_type": "code",
   "execution_count": null,
   "metadata": {
    "collapsed": false,
    "jupyter": {
     "outputs_hidden": false
    }
   },
   "outputs": [],
   "source": [
    "#to plot the direct irradiance on ground level for the different spectral bands\n",
    "atmodirs = dfEff.Atmo.unique()\n",
    "altitudes = dfEff.Altitude.unique()\n",
    "specBands = specrangesSorted\n",
    "ipl = 0\n",
    "for ic,specBand in enumerate(specBands):\n",
    "    for il,alt in enumerate([altitudes[0]]):\n",
    "        ipl += 1\n",
    "        p = ryplot.Plotter(ipl,1,2,figsize=(12,4))\n",
    "        for ip,lradu in zip([1,2],['W/m2','q/(s.m2)']):\n",
    "            p.resetPlotCol()\n",
    "            for ia,atmodir in enumerate(atmodirs):\n",
    "                dft = dfEff[ (dfEff.Atmo==atmodir) & \\\n",
    "                             (dfEff.Altitude==alt) & \\\n",
    "                             (dfEff.SpecBand==specBand)  \\\n",
    "                ].copy()\n",
    "\n",
    "                dft = dft.sort_values(by='Zenith')\n",
    "                plotVal = dft.BoaWatt if lradu=='W/m2' else dft.BoaQ\n",
    "                p.plot(ip, dft.Zenith, plotVal, '{} km {} sun zenith {} deg '.format(alt/1000.,specBand, -23),\n",
    "                       'Sensor zenith angle deg','Apparent irradiance {}'.format(lradu), label=[atmodir] )"
   ]
  },
  {
   "cell_type": "markdown",
   "metadata": {},
   "source": [
    "The next set of graphs show the path radiance for the different spectral bands and for different altitudes. At zero altitude only zenith angles above the horizon are displayed.  At high altitudes the path radiance for all lookup and lookdown angles are displayed.\n",
    "\n",
    "1. Vis/NIR/SWIR:  The atmospheres with high aerosol content has high  path radiance closer to the vertical (nearer the sun), whereas the atmospheres with low aerosol content has lower path radiance near the vertical.  The ratio in path radiance near the vertical is more than double (closer to the sun it will be even higher).  \n",
    "\n",
    "2. Vis/NIR/SWIR: At  zenith angles more than 40 degrees from the sun, there is relatively little difference in path radiance between the different atmospheres, except near the horizon where aerosol differences lead to differences in path radiance.\n",
    "\n",
    "1. Vis/NIR/SWIR: Towards the horizon the path radiance of high aerosol atmospheres is _lower_ than low aerosol atmosphere path radiance. Visually, I suspect that with aerosol atmospheres will have a white/grey horizon, whereas a high aerosol atmosphere has a red/brown horizon.  This is probably because high aerosol atmospheres already lost much of the sunlight in the halo around the sun, with less photons available on the horizon.\n",
    "\n",
    "1. MWIR/LWIR: the path radiance near the sun or at small zenith angles is relatively small compared to the  path radiance nearer the horizon.  The atmospheric temperature plays a major role: hot atmospheres have higher path radiance.  Winter atmospheres have MWIR path radiance generally below 0.5 W/(m\\tsup{2}.sr), whereas the really hot atmospheres have MWIR path radiance exceeding 1 W/(m\\tsup{2}.sr).\n",
    "\n",
    "1. The MWIR path radiance is less strongly affected by absolute humidity, and more by temperature.\n",
    "\n",
    "1. The LWIR path radiance is strongly affected by absolute humidity, but also by temperature (keep in mind that atmospheres at higher temperatures allows higher absolute humidity).\n",
    "\n"
   ]
  },
  {
   "cell_type": "code",
   "execution_count": null,
   "metadata": {
    "collapsed": false,
    "jupyter": {
     "outputs_hidden": false
    }
   },
   "outputs": [],
   "source": [
    "#to plot the path radiance for the different spectral bands\n",
    "atmodirs = dfEff.Atmo.unique()\n",
    "altitudes = dfEff.Altitude.unique()\n",
    "specBands = specrangesSorted\n",
    "ipl = 0\n",
    "for ic,specBand in enumerate(specBands):\n",
    "    for il,alt in enumerate(altitudes):\n",
    "        ipl += 1\n",
    "        p = ryplot.Plotter(ipl,1,2,figsize=(12,4))\n",
    "        for ip,lradu in zip([1,2],['W/(m2.sr)','q/(s.m2.sr)']):\n",
    "            p.resetPlotCol()\n",
    "            for ia,atmodir in enumerate(atmodirs):\n",
    "                dft = dfEff[ (dfEff.Atmo==atmodir) & \\\n",
    "                             (dfEff.Altitude==alt) & \\\n",
    "                             (dfEff.SpecBand==specBand)  \\\n",
    "                ].copy()\n",
    "\n",
    "                dft = dft.sort_values(by='Zenith')\n",
    "                plotVal = dft.LpathWatt if lradu=='W/(m2.sr)' else dft.LpathQ\n",
    "                p.plot(ip, dft.Zenith, plotVal, '{} km {} sun zenith {} deg '.format(alt/1000.,specBand, -23),\n",
    "                       'Sensor zenith angle deg','Path radiance {}'.format(lradu), label=[atmodir] )"
   ]
  },
  {
   "cell_type": "code",
   "execution_count": null,
   "metadata": {
    "collapsed": false,
    "jupyter": {
     "outputs_hidden": false
    }
   },
   "outputs": [],
   "source": [
    "#to plot the effective transmittance for the different atmospheres\n",
    "atmodirs = dfEff.Atmo.unique()\n",
    "specBands = specrangesSorted\n",
    "altitudes = dfEff.Altitude.unique()\n",
    "ipl = 0\n",
    "for ia,atmodir in enumerate(atmodirs):\n",
    "    for il,alt in enumerate(altitudes):\n",
    "        ipl += 1\n",
    "        p = ryplot.Plotter(ipl,1,2,figsize=(12,4))\n",
    "        for specBand,plotCol in zip(specBands,['r','g','b','m','c',]):\n",
    "            dft = dfEff[ (dfEff.Atmo==atmodir) & \\\n",
    "                         (dfEff.Altitude==alt) & \\\n",
    "                         (dfEff.SpecBand==specBand)  \\\n",
    "            ].copy()\n",
    "            dft = dft.sort_values(by='Zenith')\n",
    "            p.plot(1, dft.Zenith, dft.effTauSun, '{} km {} {} K target'.format(alt/1000., atmodir,6000),\n",
    "                   'Sensor zenith angle deg','Transmittance', label=[specBand], plotCol=plotCol )\n",
    "            p.plot(2, dft.Zenith, dft.effTau300, '{} km {} {} K target'.format(alt/1000.,atmodir,300),\n",
    "                   'Sensor zenith angle deg','Transmittance', label=[specBand], plotCol=plotCol )"
   ]
  },
  {
   "cell_type": "code",
   "execution_count": null,
   "metadata": {
    "collapsed": false,
    "jupyter": {
     "outputs_hidden": false
    },
    "scrolled": true
   },
   "outputs": [],
   "source": [
    "#to plot the effective transmittance for the different spectral bands\n",
    "atmodirs = dfEff.Atmo.unique()\n",
    "specBands = specrangesSorted\n",
    "altitudes = dfEff.Altitude.unique()\n",
    "ipl = 0\n",
    "for ic,specBand in enumerate(specBands):\n",
    "    for il,alt in enumerate(altitudes):\n",
    "        p = ryplot.Plotter(ipl,1,2,figsize=(12,4))\n",
    "        ipl += 1\n",
    "        for ip,targ in zip([1,2],[6000,300]):\n",
    "            p.resetPlotCol()\n",
    "            for ia,atmodir in enumerate(atmodirs):\n",
    "                dft = dfEff[ (dfEff.Atmo==atmodir) & \\\n",
    "                             (dfEff.Altitude==alt) & \\\n",
    "                             (dfEff.SpecBand==specBand)  \\\n",
    "                ].copy()\n",
    "\n",
    "                dft = dft.sort_values(by='Zenith')\n",
    "                plotVal = dft.effTauSun if targ==6000 else dft.effTau300\n",
    "                p.plot(ip, dft.Zenith, plotVal, '{} effective transmittance for {} K target'.format(specBand,targ),\n",
    "                       'Sensor zenith angle deg','Transmittance', label=[atmodir] )"
   ]
  },
  {
   "cell_type": "markdown",
   "metadata": {},
   "source": [
    "# $\\alpha$, $\\beta$  and $\\gamma$ fits to standard atmospheres\n",
    "\n",
    "Clients sometimes use simple equations to model atmospheric transmittance with range.  These models are not suitable for wideband spectral ranges.  This section investigates the goodness of fit of two such models.  Both these models apply for a uniform atmospheric path. Slant paths from any height above 2 km would not be accurately modelled. \n",
    "\n",
    "The $(\\alpha,\\beta)$ extinction model  is as follows:\n",
    "\\begin{equation}\n",
    "\\tau = \\exp{\\left[-\\alpha R \\left( \\frac{10}{R}\\right)^\\beta \\right]}\n",
    "\\end{equation}\n",
    "\n",
    "The $(\\gamma)$  or Beer (Bouguer) extinction model  is as follows:\n",
    "\\begin{equation}\n",
    "\\tau = \\exp{\\left[-\\gamma R \\right]}\n",
    "\\end{equation}\n",
    "\n",
    "In the graph below the curves labelled 'Effective Transmittance' are the true transmittance variation against range.  The sets of curves labelled '$\\alpha/\\beta$ and $\\gamma$ are the approximation curve fits.  \n",
    "\n",
    "It is quite evident that the approximation curves are not very good approximations.  For the data shown here the $(\\alpha,\\beta)$ extinction model gives a reasonable fit over the distances considered (0.1 to 15 km), but beyond 15 km the error grows very quickly.  The $(\\gamma)$ model only fits reasonably for a path length shorter than about 2 km."
   ]
  },
  {
   "cell_type": "code",
   "execution_count": null,
   "metadata": {},
   "outputs": [],
   "source": [
    "#to model the approximations\n",
    "def tauAB(prange, alpha, beta):\n",
    "    tau = np.exp(-alpha * prange * (10/prange) ** beta)\n",
    "    return tau\n",
    "\n",
    "def tauG(prange, gamma):\n",
    "    tau = np.exp(-gamma * prange)\n",
    "    return tau"
   ]
  },
  {
   "cell_type": "code",
   "execution_count": null,
   "metadata": {
    "collapsed": false,
    "jupyter": {
     "outputs_hidden": false
    }
   },
   "outputs": [],
   "source": [
    "#to collect list of atmospheres\n",
    "wlLo = 3.6 # um\n",
    "wlHi = 5.0 # um\n",
    "tempTarg = 300 # K\n",
    "strScenario = r'$\\Delta\\lambda=${}-{} $\\mu$m, T=300 K'.format(wlLo, wlHi, tempTarg )\n",
    "fileslist = ryfiles.listFiles(root=r'.', \n",
    "                patterns='.*\\.1km', recurse=1, return_folders=0, useRegex=True)\n",
    "#filter only 305 m\n",
    "filelist = []\n",
    "for item in fileslist:\n",
    "    if '305' in item:\n",
    "        filelist.append(item)"
   ]
  },
  {
   "cell_type": "code",
   "execution_count": null,
   "metadata": {
    "collapsed": false,
    "jupyter": {
     "outputs_hidden": false
    }
   },
   "outputs": [],
   "source": [
    "#to plot the approximations vs true results.\n",
    "prange = np.linspace(0.1,15,100)\n",
    "p = ryplot.Plotter(1,len(filelist)/2,2, figsize=(12,18))\n",
    "alphabetagamma = []\n",
    "for i,filename in enumerate(filelist):\n",
    "    #do this for horixontal path (homogeneous atmosphere)\n",
    "    atmotype = os.path.basename(filename).replace('-305m.1km','')\n",
    "    atmosphere = '{}: {}'.format(atmotype,atmospheres[atmotype][0])\n",
    "    atmo = np.loadtxt(filename, skiprows=1)\n",
    "    # select only the limited spectral range\n",
    "    atmo = atmo[np.all([ atmo[:,0]<=wlHi, atmo[:,0]>=wlLo], axis=0),:]\n",
    "    gamma = -np.log(atmo[:,1]) / 1.0  \n",
    "    tau = np.exp(-gamma.reshape(-1,1) * prange.reshape(1,-1) )\n",
    " \n",
    "    radtau = ryplanck.planck(atmo[:,0], tempTarg, 'el')\n",
    "    tauEff = np.trapz(radtau.reshape(-1,1) * np.exp(-gamma.reshape(-1,1) * prange.reshape(1,-1) ),\n",
    "                      atmo[:,0],axis=0) / np.trapz(radtau ,atmo[:,0],axis=0)\n",
    "    \n",
    "    popt, pcov = curve_fit(tauAB, prange, tauEff, p0=(0.5, 0.5) )\n",
    "    alpha = popt[0]\n",
    "    beta = popt[1]\n",
    "    alfabetaL = r'$\\alpha$={:.4f}  $\\beta$={:.4f}'.format(alpha,beta)\n",
    "    \n",
    "    popt, pcov = curve_fit(tauG, prange, tauEff, p0=(0.5) )\n",
    "    gamma = popt[0]\n",
    "    gammaL = r'$\\gamma$={:.4f}'.format(gamma)\n",
    "    alphabetagamma.append([atmosphere, alpha,beta,gamma ])\n",
    "   \n",
    "    title = '{} {}'.format(atmotype,strScenario)\n",
    "    p.logLog(i+1,prange, tauEff,'','','', linestyle=['-'],plotCol='b',\n",
    "             label=['Effective transmittance'])\n",
    "    p.logLog(i+1,prange, tauAB(prange,alpha, beta),'','','',\n",
    "             linestyle=['--'],plotCol='r',label=[alfabetaL])\n",
    "    p.logLog(i+1,prange, tauG(prange,gamma),title,\n",
    "             'Range [m]','Transmittance', linestyle=['--'],plotCol='g',\n",
    "             label=[gammaL],pltaxis=[0,15,1e-4,1])\n",
    "#     cp = p.getSubPlot(i+1)\n",
    "#     cp.text(0.15, 2e-3, strScenario, \n",
    "#                   horizontalalignment='left', fontsize=10)\n",
    "    "
   ]
  },
  {
   "cell_type": "code",
   "execution_count": null,
   "metadata": {
    "collapsed": false,
    "jupyter": {
     "outputs_hidden": false
    }
   },
   "outputs": [],
   "source": [
    "#to prepare tables\n",
    "string = ''\n",
    "string += r'$(\\alpha,\\beta)$ parameters for a horizontal homogeneous path '\n",
    "string += 'under conditions: {}. '.format(strScenario)\n",
    "string += r'Data fitted over path range of 0.1 to 15 km. '\n",
    "abdf = pd.DataFrame(alphabetagamma, columns=['Atmosphere',r'$\\alpha$',r'$\\beta$',r'$\\gamma$'])\n",
    "string += abdf.to_html()\n",
    "HTML(string)"
   ]
  },
  {
   "cell_type": "markdown",
   "metadata": {},
   "source": [
    "# Python and [module versions, and dates](http://nbviewer.ipython.org/github/jrjohansson/scientific-python-lectures/blob/master/Lecture-0-Scientific-Computing-with-Python.ipynb)"
   ]
  },
  {
   "cell_type": "code",
   "execution_count": null,
   "metadata": {
    "collapsed": false,
    "jupyter": {
     "outputs_hidden": false
    }
   },
   "outputs": [],
   "source": [
    "%load_ext version_information\n",
    "%version_information numpy, scipy, matplotlib, pyradi, pandas"
   ]
  },
  {
   "cell_type": "code",
   "execution_count": null,
   "metadata": {
    "collapsed": false,
    "jupyter": {
     "outputs_hidden": false
    }
   },
   "outputs": [],
   "source": []
  }
 ],
 "metadata": {
  "kernelspec": {
   "display_name": "Python 3",
   "language": "python",
   "name": "python3"
  },
  "language_info": {
   "codemirror_mode": {
    "name": "ipython",
    "version": 3
   },
   "file_extension": ".py",
   "mimetype": "text/x-python",
   "name": "python",
   "nbconvert_exporter": "python",
   "pygments_lexer": "ipython3",
   "version": "3.7.3"
  }
 },
 "nbformat": 4,
 "nbformat_minor": 4
}
